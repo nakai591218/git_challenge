{
  "nbformat": 4,
  "nbformat_minor": 0,
  "metadata": {
    "colab": {
      "provenance": []
    },
    "kernelspec": {
      "name": "python3",
      "display_name": "Python 3"
    },
    "language_info": {
      "name": "python"
    }
  },
  "cells": [
    {
      "cell_type": "code",
      "execution_count": 7,
      "metadata": {
        "colab": {
          "base_uri": "https://localhost:8080/"
        },
        "id": "Rz8KThJ6i9Yf",
        "outputId": "5696a34b-6e1c-443d-96e9-b61ffc1fdbd0"
      },
      "outputs": [
        {
          "output_type": "stream",
          "name": "stdout",
          "text": [
            "正の整数を入力してください-1\n",
            "正の整数ではありません\n"
          ]
        }
      ],
      "source": [
        "var = input(\"正の整数を入力してください\")\n",
        "var = int(var)\n",
        "if var <=0:\n",
        "    print(\"正の整数ではありません\")\n",
        "elif var%3 == 0 and var%5 == 0:\n",
        "    print(\"FizzBuzz\")\n",
        "elif var%3 == 0:\n",
        "    print(\"Fizz\")\n",
        "elif var%5 == 0:\n",
        "    print(\"Buzz\")\n",
        "else :\n",
        "    print(f\"変数の値は{var}です\")"
      ]
    },
    {
      "cell_type": "code",
      "source": [],
      "metadata": {
        "id": "yhnz2CE7kxu6"
      },
      "execution_count": null,
      "outputs": []
    }
  ]
}