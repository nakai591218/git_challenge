{
  "nbformat": 4,
  "nbformat_minor": 0,
  "metadata": {
    "colab": {
      "provenance": []
    },
    "kernelspec": {
      "name": "python3",
      "display_name": "Python 3"
    },
    "language_info": {
      "name": "python"
    }
  },
  "cells": [
    {
      "cell_type": "code",
      "source": [
        "array = [\"水\",\"金\",\"地\",\"火\",\"木\",\"土\",\"天\",\"海\",\"冥\"]\n",
        "for i,value in enumerate(array*2):\n",
        "  print(i+1,value)"
      ],
      "metadata": {
        "colab": {
          "base_uri": "https://localhost:8080/"
        },
        "id": "DB5aL-he2uTU",
        "outputId": "905fccfc-2017-46df-adef-cead013671f6"
      },
      "execution_count": null,
      "outputs": [
        {
          "output_type": "stream",
          "name": "stdout",
          "text": [
            "1 水\n",
            "2 金\n",
            "3 地\n",
            "4 火\n",
            "5 木\n",
            "6 土\n",
            "7 天\n",
            "8 海\n",
            "9 冥\n",
            "10 水\n",
            "11 金\n",
            "12 地\n",
            "13 火\n",
            "14 木\n",
            "15 土\n",
            "16 天\n",
            "17 海\n",
            "18 冥\n"
          ]
        }
      ]
    },
    {
      "cell_type": "code",
      "source": [
        "array = [\"水\",\"金\",\"地\",\"火\",\"木\",\"土\",\"天\",\"海\",\"冥\"]\n",
        "array = array*2\n",
        "\n",
        "index = 0\n",
        "i =1\n",
        "while index < len(array):\n",
        "    print(f\"{i} {array[index]}\")\n",
        "    index =index + 1\n",
        "    i= i + 1\n"
      ],
      "metadata": {
        "id": "grpfUkuc1mdC",
        "colab": {
          "base_uri": "https://localhost:8080/"
        },
        "outputId": "62b4d1aa-7467-4fe8-9bda-64cb8be083e2"
      },
      "execution_count": 23,
      "outputs": [
        {
          "output_type": "stream",
          "name": "stdout",
          "text": [
            "1 水\n",
            "2 金\n",
            "3 地\n",
            "4 火\n",
            "5 木\n",
            "6 土\n",
            "7 天\n",
            "8 海\n",
            "9 冥\n",
            "10 水\n",
            "11 金\n",
            "12 地\n",
            "13 火\n",
            "14 木\n",
            "15 土\n",
            "16 天\n",
            "17 海\n",
            "18 冥\n"
          ]
        }
      ]
    },
    {
      "cell_type": "code",
      "source": [],
      "metadata": {
        "id": "pDu527gbGqNG"
      },
      "execution_count": null,
      "outputs": []
    }
  ]
}